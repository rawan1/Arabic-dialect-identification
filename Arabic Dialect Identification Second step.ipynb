{
 "cells": [
  {
   "cell_type": "markdown",
   "id": "55c1975f",
   "metadata": {},
   "source": [
    "# Arabic dialect identification\n",
    "## The second step\n",
    "#### Auther: Rawan Hahi"
   ]
  },
  {
   "cell_type": "code",
   "execution_count": 56,
   "id": "dedf5a2a",
   "metadata": {},
   "outputs": [],
   "source": [
    "import matplotlib.pyplot as plt\n",
    "import pandas as pd\n",
    "from sklearn.naive_bayes import GaussianNB,ComplementNB,MultinomialNB,BernoulliNB\n",
    "import numpy as np\n",
    "from time import time\n",
    "from sklearn.feature_extraction.text import CountVectorizer\n",
    "from sklearn.metrics import accuracy_score, recall_score, precision_score, f1_score, classification_report\n",
    "from sklearn.linear_model import SGDClassifier\n",
    "from sklearn.neural_network import MLPClassifier\n",
    "from sklearn.linear_model import LogisticRegression\n",
    "from sklearn.feature_extraction.text import TfidfVectorizer\n"
   ]
  },
  {
   "cell_type": "code",
   "execution_count": 44,
   "id": "91330086",
   "metadata": {},
   "outputs": [],
   "source": [
    "train_data_path = 'Cleaned_Training_Data.csv'\n",
    "test_data_path = 'Cleaned_Test_Data.csv'"
   ]
  },
  {
   "cell_type": "code",
   "execution_count": 45,
   "id": "7517430b",
   "metadata": {},
   "outputs": [],
   "source": [
    "train_data = pd.read_csv(train_data_path)\n",
    "test_data = pd.read_csv(test_data_path)"
   ]
  },
  {
   "cell_type": "code",
   "execution_count": 46,
   "id": "f6e6078c",
   "metadata": {},
   "outputs": [
    {
     "data": {
      "text/html": [
       "<div>\n",
       "<style scoped>\n",
       "    .dataframe tbody tr th:only-of-type {\n",
       "        vertical-align: middle;\n",
       "    }\n",
       "\n",
       "    .dataframe tbody tr th {\n",
       "        vertical-align: top;\n",
       "    }\n",
       "\n",
       "    .dataframe thead th {\n",
       "        text-align: right;\n",
       "    }\n",
       "</style>\n",
       "<table border=\"1\" class=\"dataframe\">\n",
       "  <thead>\n",
       "    <tr style=\"text-align: right;\">\n",
       "      <th></th>\n",
       "      <th>Unnamed: 0</th>\n",
       "      <th>tweet</th>\n",
       "      <th>dialect</th>\n",
       "    </tr>\n",
       "  </thead>\n",
       "  <tbody>\n",
       "    <tr>\n",
       "      <th>0</th>\n",
       "      <td>0</td>\n",
       "      <td>حاجة حلوة اكيد</td>\n",
       "      <td>Egypt</td>\n",
       "    </tr>\n",
       "    <tr>\n",
       "      <th>1</th>\n",
       "      <td>1</td>\n",
       "      <td>عم بشتغلوا للشعب الاميركي اما نحن يكذبوا ويغشو...</td>\n",
       "      <td>Iraq</td>\n",
       "    </tr>\n",
       "    <tr>\n",
       "      <th>2</th>\n",
       "      <td>2</td>\n",
       "      <td>ابشر طال عمرك</td>\n",
       "      <td>Saudi_Arabia</td>\n",
       "    </tr>\n",
       "    <tr>\n",
       "      <th>3</th>\n",
       "      <td>3</td>\n",
       "      <td>منطق 2017: أنا والغريب علي إبن عمي وأنا والغري...</td>\n",
       "      <td>Mauritania</td>\n",
       "    </tr>\n",
       "    <tr>\n",
       "      <th>4</th>\n",
       "      <td>4</td>\n",
       "      <td>شهرين وتروح والباقي غير صيف ملينا</td>\n",
       "      <td>Algeria</td>\n",
       "    </tr>\n",
       "  </tbody>\n",
       "</table>\n",
       "</div>"
      ],
      "text/plain": [
       "   Unnamed: 0                                              tweet       dialect\n",
       "0           0                                     حاجة حلوة اكيد         Egypt\n",
       "1           1  عم بشتغلوا للشعب الاميركي اما نحن يكذبوا ويغشو...          Iraq\n",
       "2           2                                      ابشر طال عمرك  Saudi_Arabia\n",
       "3           3  منطق 2017: أنا والغريب علي إبن عمي وأنا والغري...    Mauritania\n",
       "4           4                  شهرين وتروح والباقي غير صيف ملينا       Algeria"
      ]
     },
     "execution_count": 46,
     "metadata": {},
     "output_type": "execute_result"
    }
   ],
   "source": [
    "train_data.head()"
   ]
  },
  {
   "cell_type": "code",
   "execution_count": 47,
   "id": "1ac02bca",
   "metadata": {},
   "outputs": [
    {
     "data": {
      "text/html": [
       "<div>\n",
       "<style scoped>\n",
       "    .dataframe tbody tr th:only-of-type {\n",
       "        vertical-align: middle;\n",
       "    }\n",
       "\n",
       "    .dataframe tbody tr th {\n",
       "        vertical-align: top;\n",
       "    }\n",
       "\n",
       "    .dataframe thead th {\n",
       "        text-align: right;\n",
       "    }\n",
       "</style>\n",
       "<table border=\"1\" class=\"dataframe\">\n",
       "  <thead>\n",
       "    <tr style=\"text-align: right;\">\n",
       "      <th></th>\n",
       "      <th>Unnamed: 0</th>\n",
       "      <th>tweet</th>\n",
       "      <th>dialect</th>\n",
       "    </tr>\n",
       "  </thead>\n",
       "  <tbody>\n",
       "    <tr>\n",
       "      <th>0</th>\n",
       "      <td>0</td>\n",
       "      <td>قولنا اون لاين لا يا علي اون لاين لا</td>\n",
       "      <td>Egypt</td>\n",
       "    </tr>\n",
       "    <tr>\n",
       "      <th>1</th>\n",
       "      <td>1</td>\n",
       "      <td>ههههه بايخه ههههه URL  …</td>\n",
       "      <td>Oman</td>\n",
       "    </tr>\n",
       "    <tr>\n",
       "      <th>2</th>\n",
       "      <td>2</td>\n",
       "      <td>ربنا يخليك يا دوك ولك المثل :D</td>\n",
       "      <td>Lebanon</td>\n",
       "    </tr>\n",
       "    <tr>\n",
       "      <th>3</th>\n",
       "      <td>3</td>\n",
       "      <td>#اوامر_ملكيه ياشباب اي واحد فيكم عنده شي يذكره...</td>\n",
       "      <td>Syria</td>\n",
       "    </tr>\n",
       "    <tr>\n",
       "      <th>4</th>\n",
       "      <td>4</td>\n",
       "      <td>شد عالخط حتى هيا اكويسه</td>\n",
       "      <td>Libya</td>\n",
       "    </tr>\n",
       "  </tbody>\n",
       "</table>\n",
       "</div>"
      ],
      "text/plain": [
       "   Unnamed: 0                                              tweet  dialect\n",
       "0           0               قولنا اون لاين لا يا علي اون لاين لا    Egypt\n",
       "1           1                           ههههه بايخه ههههه URL  …     Oman\n",
       "2           2                     ربنا يخليك يا دوك ولك المثل :D  Lebanon\n",
       "3           3  #اوامر_ملكيه ياشباب اي واحد فيكم عنده شي يذكره...    Syria\n",
       "4           4                            شد عالخط حتى هيا اكويسه    Libya"
      ]
     },
     "execution_count": 47,
     "metadata": {},
     "output_type": "execute_result"
    }
   ],
   "source": [
    "test_data.head()"
   ]
  },
  {
   "cell_type": "code",
   "execution_count": 48,
   "id": "50edf722",
   "metadata": {},
   "outputs": [],
   "source": [
    "X_train=train_data['tweet'].values.tolist()\n",
    "Y_train=pd.get_dummies(train_data['dialect'].values)"
   ]
  },
  {
   "cell_type": "code",
   "execution_count": 49,
   "id": "eb586e1c",
   "metadata": {},
   "outputs": [],
   "source": [
    "X_test=test_data['tweet'].values.tolist()\n",
    "Y_test=pd.get_dummies(test_data['dialect'].values)"
   ]
  },
  {
   "cell_type": "markdown",
   "id": "10d236c4",
   "metadata": {},
   "source": [
    "## ConutVectorizer\n",
    "##### ngram_range = (1, 2)\n"
   ]
  },
  {
   "cell_type": "code",
   "execution_count": 50,
   "id": "0ce55a24",
   "metadata": {},
   "outputs": [
    {
     "data": {
      "text/plain": [
       "CountVectorizer(max_features=1500000, ngram_range=(1, 2))"
      ]
     },
     "execution_count": 50,
     "metadata": {},
     "output_type": "execute_result"
    }
   ],
   "source": [
    "cv = CountVectorizer(binary=False,ngram_range=(1,2),\n",
    "                     max_features=1500000)\n",
    "cv.fit(X_train)\n"
   ]
  },
  {
   "cell_type": "code",
   "execution_count": 51,
   "id": "791ae30d",
   "metadata": {},
   "outputs": [],
   "source": [
    "X_train_cv = cv.transform(X_train)\n",
    "X_test_cv = cv.transform(X_test) "
   ]
  },
  {
   "cell_type": "code",
   "execution_count": 52,
   "id": "f0bc019b",
   "metadata": {},
   "outputs": [],
   "source": [
    "def train_predict(classifier,X_train,y_train,X_test,y_test, average= 'macro'): \n",
    "    '''\n",
    "\n",
    "    inputs:\n",
    "       - classifier: the learning algorithm to be trained and predicted on\n",
    "       - x_train  : train set Features\n",
    "       - y_train  : train set Labels\n",
    "       - x_test   : test set Features\n",
    "       - y_train  : test set Labels\n",
    " \n",
    "    '''\n",
    "    \n",
    "    results = {}\n",
    "    \n",
    "    # Fit the classifier to the training data and Calculate the time\n",
    "    start_train = time()\n",
    "    classifier = classifier.fit(X_train, y_train)\n",
    "    end_train = time()\n",
    "    results['train_time'] = round((end_train-start_train), 2)\n",
    "\n",
    "    # Predict the training/testing labels and Calculate the time\n",
    "    start_test = time()\n",
    "    y_pred_train = classifier.predict(X_train)\n",
    "    y_pred_test = classifier.predict(X_test)\n",
    "    end_test = time()   \n",
    "    results['pred_time'] = round((end_test-start_test), 2)\n",
    "            \n",
    "    # Model evaluation (training/testing data) using accuracy\n",
    "    results['acc_train'] = round(accuracy_score(y_train, y_pred_train), 2)\n",
    "    results['acc_test'] = round(accuracy_score(y_test, y_pred_test), 2)\n",
    "    \n",
    "    # Model evaluation (training/testing data) using f1-score\n",
    "    results['f1_train'] = round(f1_score(y_train, y_pred_train, average= average), 2)\n",
    "    results['f1_test'] = round(f1_score(y_test, y_pred_test, average= average), 2)\n",
    "    \n",
    "    # Display classification_report\n",
    "    report = classification_report(y_test, y_pred_test)\n",
    "       \n",
    "    \n",
    "    # Return the results\n",
    "    return results, report"
   ]
  },
  {
   "cell_type": "markdown",
   "id": "bce4468c",
   "metadata": {},
   "source": [
    "## Multinomial Naive Bayes classifier "
   ]
  },
  {
   "cell_type": "code",
   "execution_count": 53,
   "id": "f1bc629a",
   "metadata": {},
   "outputs": [
    {
     "name": "stdout",
     "output_type": "stream",
     "text": [
      "{'train_time': 0.41, 'pred_time': 0.15, 'acc_train': 0.88, 'acc_test': 0.36, 'f1_train': 0.81, 'f1_test': 0.11}\n"
     ]
    },
    {
     "name": "stderr",
     "output_type": "stream",
     "text": [
      "C:\\Users\\TOSHIBA\\anaconda3\\lib\\site-packages\\sklearn\\metrics\\_classification.py:1318: UndefinedMetricWarning: Precision and F-score are ill-defined and being set to 0.0 in labels with no predicted samples. Use `zero_division` parameter to control this behavior.\n",
      "  _warn_prf(average, modifier, msg_start, len(result))\n",
      "C:\\Users\\TOSHIBA\\anaconda3\\lib\\site-packages\\sklearn\\metrics\\_classification.py:1318: UndefinedMetricWarning: Precision and F-score are ill-defined and being set to 0.0 in labels with no predicted samples. Use `zero_division` parameter to control this behavior.\n",
      "  _warn_prf(average, modifier, msg_start, len(result))\n",
      "C:\\Users\\TOSHIBA\\anaconda3\\lib\\site-packages\\sklearn\\metrics\\_classification.py:1318: UndefinedMetricWarning: Precision and F-score are ill-defined and being set to 0.0 in labels with no predicted samples. Use `zero_division` parameter to control this behavior.\n",
      "  _warn_prf(average, modifier, msg_start, len(result))\n"
     ]
    }
   ],
   "source": [
    "clf_MNB = MultinomialNB()\n",
    "clf_MNB_evaluation = {}\n",
    "clf_MNB_report = {}\n",
    "\n",
    "clf_MNB_evaluation, clf_MNB_report= train_predict(clf_MNB,\n",
    "                                                  X_train_cv, np.argmax(Y_train.to_numpy(), axis=1),\n",
    "                                                  X_test_cv, np.argmax(Y_test.to_numpy(), axis=1)\n",
    "                                                                                                                                                                                           )\n",
    "print(clf_MNB_evaluation )"
   ]
  },
  {
   "cell_type": "code",
   "execution_count": null,
   "id": "1e908f57",
   "metadata": {},
   "outputs": [],
   "source": []
  },
  {
   "cell_type": "code",
   "execution_count": 54,
   "id": "fcd7acfa",
   "metadata": {},
   "outputs": [
    {
     "name": "stderr",
     "output_type": "stream",
     "text": [
      "C:\\Users\\TOSHIBA\\anaconda3\\lib\\site-packages\\sklearn\\metrics\\_classification.py:1318: UndefinedMetricWarning: Precision and F-score are ill-defined and being set to 0.0 in labels with no predicted samples. Use `zero_division` parameter to control this behavior.\n",
      "  _warn_prf(average, modifier, msg_start, len(result))\n",
      "C:\\Users\\TOSHIBA\\anaconda3\\lib\\site-packages\\sklearn\\metrics\\_classification.py:1318: UndefinedMetricWarning: Precision and F-score are ill-defined and being set to 0.0 in labels with no predicted samples. Use `zero_division` parameter to control this behavior.\n",
      "  _warn_prf(average, modifier, msg_start, len(result))\n",
      "C:\\Users\\TOSHIBA\\anaconda3\\lib\\site-packages\\sklearn\\metrics\\_classification.py:1318: UndefinedMetricWarning: Precision and F-score are ill-defined and being set to 0.0 in labels with no predicted samples. Use `zero_division` parameter to control this behavior.\n",
      "  _warn_prf(average, modifier, msg_start, len(result))\n",
      "C:\\Users\\TOSHIBA\\anaconda3\\lib\\site-packages\\sklearn\\linear_model\\_logistic.py:814: ConvergenceWarning: lbfgs failed to converge (status=1):\n",
      "STOP: TOTAL NO. of ITERATIONS REACHED LIMIT.\n",
      "\n",
      "Increase the number of iterations (max_iter) or scale the data as shown in:\n",
      "    https://scikit-learn.org/stable/modules/preprocessing.html\n",
      "Please also refer to the documentation for alternative solver options:\n",
      "    https://scikit-learn.org/stable/modules/linear_model.html#logistic-regression\n",
      "  n_iter_i = _check_optimize_result(\n"
     ]
    },
    {
     "name": "stdout",
     "output_type": "stream",
     "text": [
      "{'MultinomialNB': {'train_time': 0.41, 'pred_time': 0.1, 'acc_train': 0.88, 'acc_test': 0.36, 'f1_train': 0.81, 'f1_test': 0.11}, 'LogisticRegression': {'train_time': 165.11, 'pred_time': 0.16, 'acc_train': 1.0, 'acc_test': 0.38, 'f1_train': 1.0, 'f1_test': 0.15}, 'SGDClassifier': {'train_time': 249.98, 'pred_time': 0.13, 'acc_train': 0.97, 'acc_test': 0.39, 'f1_train': 0.97, 'f1_test': 0.19}}\n"
     ]
    }
   ],
   "source": [
    "clf_MNB = MultinomialNB()\n",
    "clf_LR = LogisticRegression()\n",
    "clf_SGD=SGDClassifier(loss='hinge', penalty='l2',alpha=1e-3, random_state=42,\n",
    "                      tol=None)\n",
    "clf_list = [ clf_MNB, clf_LR, clf_SGD]\n",
    "\n",
    "# Compare evaluation of the different classifiers\n",
    "clf_evaluation = {}\n",
    "clf_report = {}\n",
    "\n",
    "for clf in clf_list:\n",
    "    clf_evaluation[clf.__class__.__name__], clf_report[clf.__class__.__name__] = train_predict(clf,\n",
    "                                                                                              X_train_cv,\n",
    "                                                                                              np.argmax(Y_train.to_numpy(), axis=1),\n",
    "                                                                                              X_test_cv,\n",
    "                                                                                              np.argmax(Y_test.to_numpy(), axis=1)\n",
    "                                                                                              )\n",
    "print(clf_evaluation )"
   ]
  },
  {
   "cell_type": "markdown",
   "id": "24ddc15c",
   "metadata": {},
   "source": [
    "## TfIDf"
   ]
  },
  {
   "cell_type": "code",
   "execution_count": 59,
   "id": "0b5f3afe",
   "metadata": {},
   "outputs": [
    {
     "name": "stdout",
     "output_type": "stream",
     "text": [
      "vocabulary :  58079\n"
     ]
    }
   ],
   "source": [
    "cv = TfidfVectorizer()\n",
    "cv.fit(X_train)\n",
    "print(\"vocabulary : \",len(cv.vocabulary_))"
   ]
  },
  {
   "cell_type": "code",
   "execution_count": 60,
   "id": "33d7d1e8",
   "metadata": {},
   "outputs": [],
   "source": [
    "X_train_cv = cv.transform(X_train)\n",
    "X_test_cv = cv.transform(X_test) "
   ]
  },
  {
   "cell_type": "code",
   "execution_count": 61,
   "id": "0ee3ab48",
   "metadata": {},
   "outputs": [
    {
     "name": "stderr",
     "output_type": "stream",
     "text": [
      "C:\\Users\\TOSHIBA\\anaconda3\\lib\\site-packages\\sklearn\\metrics\\_classification.py:1318: UndefinedMetricWarning: Precision and F-score are ill-defined and being set to 0.0 in labels with no predicted samples. Use `zero_division` parameter to control this behavior.\n",
      "  _warn_prf(average, modifier, msg_start, len(result))\n",
      "C:\\Users\\TOSHIBA\\anaconda3\\lib\\site-packages\\sklearn\\metrics\\_classification.py:1318: UndefinedMetricWarning: Precision and F-score are ill-defined and being set to 0.0 in labels with no predicted samples. Use `zero_division` parameter to control this behavior.\n",
      "  _warn_prf(average, modifier, msg_start, len(result))\n",
      "C:\\Users\\TOSHIBA\\anaconda3\\lib\\site-packages\\sklearn\\metrics\\_classification.py:1318: UndefinedMetricWarning: Precision and F-score are ill-defined and being set to 0.0 in labels with no predicted samples. Use `zero_division` parameter to control this behavior.\n",
      "  _warn_prf(average, modifier, msg_start, len(result))\n",
      "C:\\Users\\TOSHIBA\\anaconda3\\lib\\site-packages\\sklearn\\linear_model\\_logistic.py:814: ConvergenceWarning: lbfgs failed to converge (status=1):\n",
      "STOP: TOTAL NO. of ITERATIONS REACHED LIMIT.\n",
      "\n",
      "Increase the number of iterations (max_iter) or scale the data as shown in:\n",
      "    https://scikit-learn.org/stable/modules/preprocessing.html\n",
      "Please also refer to the documentation for alternative solver options:\n",
      "    https://scikit-learn.org/stable/modules/linear_model.html#logistic-regression\n",
      "  n_iter_i = _check_optimize_result(\n",
      "C:\\Users\\TOSHIBA\\anaconda3\\lib\\site-packages\\sklearn\\metrics\\_classification.py:1318: UndefinedMetricWarning: Precision and F-score are ill-defined and being set to 0.0 in labels with no predicted samples. Use `zero_division` parameter to control this behavior.\n",
      "  _warn_prf(average, modifier, msg_start, len(result))\n",
      "C:\\Users\\TOSHIBA\\anaconda3\\lib\\site-packages\\sklearn\\metrics\\_classification.py:1318: UndefinedMetricWarning: Precision and F-score are ill-defined and being set to 0.0 in labels with no predicted samples. Use `zero_division` parameter to control this behavior.\n",
      "  _warn_prf(average, modifier, msg_start, len(result))\n",
      "C:\\Users\\TOSHIBA\\anaconda3\\lib\\site-packages\\sklearn\\metrics\\_classification.py:1318: UndefinedMetricWarning: Precision and F-score are ill-defined and being set to 0.0 in labels with no predicted samples. Use `zero_division` parameter to control this behavior.\n",
      "  _warn_prf(average, modifier, msg_start, len(result))\n"
     ]
    },
    {
     "name": "stdout",
     "output_type": "stream",
     "text": [
      "{'MultinomialNB': {'train_time': 0.14, 'pred_time': 0.04, 'acc_train': 0.44, 'acc_test': 0.29, 'f1_train': 0.15, 'f1_test': 0.06}, 'LogisticRegression': {'train_time': 47.16, 'pred_time': 0.07, 'acc_train': 0.64, 'acc_test': 0.37, 'f1_train': 0.35, 'f1_test': 0.13}, 'SGDClassifier': {'train_time': 125.56, 'pred_time': 0.06, 'acc_train': 0.91, 'acc_test': 0.37, 'f1_train': 0.92, 'f1_test': 0.19}}\n"
     ]
    }
   ],
   "source": [
    "clf_MNB = MultinomialNB()\n",
    "clf_LR = LogisticRegression()\n",
    "clf_SGD=SGDClassifier(loss='hinge', penalty='l2',alpha=1e-3, random_state=42,\n",
    "                      tol=None)\n",
    "clf_list = [ clf_MNB, clf_LR, clf_SGD]\n",
    "\n",
    "# Compare evaluation of the different classifiers\n",
    "clf_evaluation = {}\n",
    "clf_report = {}\n",
    "\n",
    "for clf in clf_list:\n",
    "    clf_evaluation[clf.__class__.__name__], clf_report[clf.__class__.__name__] = train_predict(clf,\n",
    "                                                                                              X_train_cv,\n",
    "                                                                                              np.argmax(Y_train.to_numpy(), axis=1),\n",
    "                                                                                              X_test_cv,\n",
    "                                                                                              np.argmax(Y_test.to_numpy(), axis=1)\n",
    "                                                                                              )\n",
    "print(clf_evaluation )"
   ]
  },
  {
   "cell_type": "code",
   "execution_count": null,
   "id": "a9f54d47",
   "metadata": {},
   "outputs": [],
   "source": []
  }
 ],
 "metadata": {
  "kernelspec": {
   "display_name": "Python 3 (ipykernel)",
   "language": "python",
   "name": "python3"
  },
  "language_info": {
   "codemirror_mode": {
    "name": "ipython",
    "version": 3
   },
   "file_extension": ".py",
   "mimetype": "text/x-python",
   "name": "python",
   "nbconvert_exporter": "python",
   "pygments_lexer": "ipython3",
   "version": "3.9.12"
  }
 },
 "nbformat": 4,
 "nbformat_minor": 5
}
